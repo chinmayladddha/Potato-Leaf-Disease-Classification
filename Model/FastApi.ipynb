{
 "cells": [
  {
   "cell_type": "code",
   "execution_count": 1,
   "id": "7ae16037",
   "metadata": {},
   "outputs": [],
   "source": [
    "from fastapi import FastAPI"
   ]
  },
  {
   "cell_type": "code",
   "execution_count": 2,
   "id": "2ef4d0c6",
   "metadata": {},
   "outputs": [],
   "source": [
    "app=FastAPI()\n",
    "@app.get(\"/hello\")\n",
    "async def hello():\n",
    "    return \"welcome\""
   ]
  },
  {
   "cell_type": "code",
   "execution_count": null,
   "id": "60dfa076",
   "metadata": {},
   "outputs": [],
   "source": []
  }
 ],
 "metadata": {
  "kernelspec": {
   "display_name": "Python 3 (ipykernel)",
   "language": "python",
   "name": "python3"
  },
  "language_info": {
   "codemirror_mode": {
    "name": "ipython",
    "version": 3
   },
   "file_extension": ".py",
   "mimetype": "text/x-python",
   "name": "python",
   "nbconvert_exporter": "python",
   "pygments_lexer": "ipython3",
   "version": "3.10.8"
  }
 },
 "nbformat": 4,
 "nbformat_minor": 5
}
